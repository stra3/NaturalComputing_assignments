{
 "cells": [
  {
   "cell_type": "markdown",
   "metadata": {},
   "source": [
    "# Natural computing - Assignment 1\n",
    "\n",
    "#### Jelle Arts (s1010317), Ruben Geurtjens (s1006223), Lotte Willems (s1009251)\n",
    "\n",
    "\n",
    "The link to our git where you can find the notebook:\n",
    "https://github.com/stra3/NaturalComputing_assignments"
   ]
  },
  {
   "cell_type": "markdown",
   "metadata": {},
   "source": [
    "### Question 1\n",
    "\n",
    "Using slide 43 from the lecture, we can see that schemas with a low order are more likely to survive. Therefore, schema A1 is more likely to survive. \n",
    "\n",
    "$S_m(A1) = (1-0.01)^4=0.961 $ and $S_m(A2) = (1-0.01)^6=0.941$\n"
   ]
  },
  {
   "cell_type": "markdown",
   "metadata": {},
   "source": [
    "### Question 2\n",
    "\n",
    "The needle in the hay-stack problem that was described in the lecture is a problem where the Building Block Hypothesis does not hold. In the hay-stack problem, single positions do not provide any information for guiding the GA to the global optimum."
   ]
  },
  {
   "cell_type": "markdown",
   "metadata": {},
   "source": [
    "### Question 3\n",
    "\n",
    "Fitness total = $2^2+3^2+4^2=29$\n",
    "\n",
    "Fitness $ (x = 2) = 4/29=0.138$\n",
    "\n",
    "Fitness $(x = 3) = 9/29=0.310$\n",
    "\n",
    "Fitness $(x = 4) = 16/29=0.551$\n",
    "\n",
    "If we scale the function to $f_1(x) = f(x) + 20$ we get the following probabilities. \n",
    "\n",
    "Fitness total = $2^2+20+3^2+20+4^2+20=89$\n",
    "\n",
    "Fitness $ (x = 2) = 24/89=0.270$ \n",
    "\n",
    "Fitness $ (x = 3) = 29/89=0.326$ \n",
    "\n",
    "Fitness $ (x = 4) = 36/89=0.404$ \n",
    "\n",
    "We can see from this that the second fitness functions yield a lower selection pressure. This is because the probability of surviving are more evenly distributed when compared to the other fitness function. Based on this, we can conclude that fitness scaling is an easy and effective measure to control the selection pressure. "
   ]
  },
  {
   "cell_type": "code",
   "execution_count": 54,
   "metadata": {},
   "outputs": [],
   "source": [
    "import numpy as np\n",
    "import pandas as pd\n",
    "import matplotlib.pyplot as plt\n",
    "import math\n",
    "import operator\n",
    "import random\n",
    "\n",
    "from IPython.display import clear_output\n",
    "from deap import gp, base, creator, tools, algorithms"
   ]
  },
  {
   "cell_type": "markdown",
   "metadata": {},
   "source": [
    "### Question 4\n",
    "\n",
    "Below you can find the code for the simple (1 + 1) - GA. The answers for subquestions a, b and c are also below."
   ]
  },
  {
   "cell_type": "code",
   "execution_count": 83,
   "metadata": {},
   "outputs": [],
   "source": [
    "def GA(l = 100, n = 1500, c_prime = True):\n",
    "    \"\"\"\n",
    "    l: length bit strings\n",
    "    n: number of iterations\n",
    "    c_prime: always replacing x with x_m\n",
    "    \"\"\"\n",
    "    \n",
    "    fitness = []\n",
    "    p = 1/l # mutation rate\n",
    "    \n",
    "    x = np.random.randint(2, size=(l,)) # generate data\n",
    "    \n",
    "    for i in range(n):\n",
    "        x_copy = x.copy()\n",
    "        x_m = []\n",
    "        for a in x_copy:\n",
    "            if np.random.uniform() < p:\n",
    "                if a == 0:\n",
    "                    x_m.append(1)\n",
    "                else:\n",
    "                    x_m.append(0)\n",
    "            else:\n",
    "                x_m.append(a)\n",
    "        x_m = np.asarray(x_m)\n",
    "        \n",
    "        if sum(x) < sum(x_m) and not c_prime: \n",
    "            x = x_m\n",
    "        elif c_prime:\n",
    "            x = x_m\n",
    "            \n",
    "        fitness.append(sum(x))\n",
    "        \n",
    "    return fitness"
   ]
  },
  {
   "cell_type": "code",
   "execution_count": 3,
   "metadata": {},
   "outputs": [],
   "source": [
    "fitness = GA(100, n = 1500, c_prime = False)"
   ]
  },
  {
   "cell_type": "markdown",
   "metadata": {},
   "source": [
    "a) The plot for the fitness plotted agains the iterations can be found below"
   ]
  },
  {
   "cell_type": "code",
   "execution_count": 4,
   "metadata": {},
   "outputs": [
    {
     "data": {
      "image/png": "[encoded data removed]",
      "text/plain": [
       "<Figure size 432x288 with 1 Axes>"
      ]
     },
     "metadata": {
      "needs_background": "light"
     },
     "output_type": "display_data"
    }
   ],
   "source": [
    "plt.plot(fitness)\n",
    "plt.title(\"best fitness vs iteration\")\n",
    "plt.ylabel(\"fitness score\")\n",
    "plt.xlabel(\"iteration\")\n",
    "plt.show()"
   ]
  },
  {
   "cell_type": "markdown",
   "metadata": {},
   "source": [
    "b) With 10 runs, the algorithm finds the optimum almost every time. In the run below, it found the optimum all times. However, when running it 10 times a couple of times again, there is a run of 9/10 times finding the global optimum sometimes."
   ]
  },
  {
   "cell_type": "code",
   "execution_count": 5,
   "metadata": {
    "scrolled": true
   },
   "outputs": [
    {
     "name": "stdout",
     "output_type": "stream",
     "text": [
      "100\n",
      "100\n",
      "100\n",
      "100\n",
      "100\n",
      "100\n",
      "100\n",
      "100\n",
      "100\n",
      "100\n"
     ]
    }
   ],
   "source": [
    "for x in range(10):\n",
    "    fitness = GA(100,n=1500, c_prime=False)   \n",
    "    print(fitness[-1])"
   ]
  },
  {
   "cell_type": "markdown",
   "metadata": {},
   "source": [
    "c) When replacing c with c' in the algorithm, the performance decreases as can be seen below. The algorithm never converges and usually gets stuck at a fitness score of around 50, which makes sense. If we take a random bit string of length 100, we will get 50 ones and 50 zeros on average.  "
   ]
  },
  {
   "cell_type": "code",
   "execution_count": 6,
   "metadata": {},
   "outputs": [
    {
     "name": "stdout",
     "output_type": "stream",
     "text": [
      "46\n",
      "50\n",
      "50\n",
      "43\n",
      "50\n",
      "51\n",
      "53\n",
      "56\n",
      "50\n",
      "51\n"
     ]
    }
   ],
   "source": [
    "for x in range(10):\n",
    "    fitness = GA(100, n=1500, c_prime=True)   \n",
    "    print(fitness[-1])"
   ]
  },
  {
   "cell_type": "markdown",
   "metadata": {},
   "source": [
    "### Question 5\n",
    "\n",
    "A (1 + 5) ES differs from (1 + 1) in exploring the search space in that (1 + 5) looks at more local options compared to (1 + 1). So with (1 + 5) you are exploring more of the search space each step.\n",
    "\n",
    "For the (1 + $\\lambda$) ES, the smaller the $\\lambda$, the more the behaviour matches a greedy algorithm. "
   ]
  },
  {
   "cell_type": "markdown",
   "metadata": {},
   "source": [
    "### Question 6\n",
    "\n",
    "Below you can find the code for the simple EA for the TSP. The algorithm was ran with and without local search.\n",
    "\n",
    "From the plots you can see that the memetic algorithm with local search is more efficient than the simple ES on the traveling salesmen problem. The algorithm needs less iterations to converge towards a minimal fitness. However, the local search is less time efficient per generation. "
   ]
  },
  {
   "cell_type": "code",
   "execution_count": 22,
   "metadata": {},
   "outputs": [],
   "source": [
    "## Loading in provided txt file with cities\n",
    "\n",
    "file = open(\"file-tsp.txt\", \"r\")\n",
    "cities = []\n",
    "\n",
    "for x in file:\n",
    "    x = x.split(\"   \") # three spaces\n",
    "    x = [float(a) for a in x]\n",
    "    cities.append(x) \n",
    "    \n"
   ]
  },
  {
   "cell_type": "code",
   "execution_count": 122,
   "metadata": {},
   "outputs": [
    {
     "data": {
      "text/plain": [
       "[[9860.0, 14152.0],\n",
       " [9396.0, 14616.0],\n",
       " [11252.0, 14848.0],\n",
       " [11020.0, 13456.0],\n",
       " [9512.0, 15776.0],\n",
       " [10788.0, 13804.0],\n",
       " [10208.0, 14384.0],\n",
       " [11600.0, 13456.0],\n",
       " [11252.0, 14036.0],\n",
       " [10672.0, 15080.0],\n",
       " [11136.0, 14152.0],\n",
       " [9860.0, 13108.0],\n",
       " [10092.0, 14964.0],\n",
       " [9512.0, 13340.0],\n",
       " [10556.0, 13688.0],\n",
       " [9628.0, 14036.0],\n",
       " [10904.0, 13108.0],\n",
       " [11368.0, 12644.0],\n",
       " [11252.0, 13340.0],\n",
       " [10672.0, 13340.0],\n",
       " [11020.0, 13108.0],\n",
       " [11020.0, 13340.0],\n",
       " [11136.0, 13572.0],\n",
       " [11020.0, 13688.0],\n",
       " [8468.0, 11136.0],\n",
       " [8932.0, 12064.0],\n",
       " [9512.0, 12412.0],\n",
       " [7772.0, 11020.0],\n",
       " [8352.0, 10672.0],\n",
       " [9164.0, 12876.0],\n",
       " [9744.0, 12528.0],\n",
       " [8352.0, 10324.0],\n",
       " [8236.0, 11020.0],\n",
       " [8468.0, 12876.0],\n",
       " [8700.0, 14036.0],\n",
       " [8932.0, 13688.0],\n",
       " [9048.0, 13804.0],\n",
       " [8468.0, 12296.0],\n",
       " [8352.0, 12644.0],\n",
       " [8236.0, 13572.0],\n",
       " [9164.0, 13340.0],\n",
       " [8004.0, 12760.0],\n",
       " [8584.0, 13108.0],\n",
       " [7772.0, 14732.0],\n",
       " [7540.0, 15080.0],\n",
       " [7424.0, 17516.0],\n",
       " [8352.0, 17052.0],\n",
       " [7540.0, 16820.0],\n",
       " [7888.0, 17168.0],\n",
       " [9744.0, 15196.0],\n",
       " [9164.0, 14964.0],\n",
       " [9744.0, 16240.0],\n",
       " [7888.0, 16936.0],\n",
       " [8236.0, 15428.0],\n",
       " [9512.0, 17400.0],\n",
       " [9164.0, 16008.0],\n",
       " [8700.0, 15312.0],\n",
       " [11716.0, 16008.0],\n",
       " [12992.0, 14964.0],\n",
       " [12412.0, 14964.0],\n",
       " [12296.0, 15312.0],\n",
       " [12528.0, 15196.0],\n",
       " [15312.0, 6612.0],\n",
       " [11716.0, 16124.0],\n",
       " [11600.0, 19720.0],\n",
       " [10324.0, 17516.0],\n",
       " [12412.0, 13340.0],\n",
       " [12876.0, 12180.0],\n",
       " [13688.0, 10904.0],\n",
       " [13688.0, 11716.0],\n",
       " [13688.0, 12528.0],\n",
       " [11484.0, 13224.0],\n",
       " [12296.0, 12760.0],\n",
       " [12064.0, 12528.0],\n",
       " [12644.0, 10556.0],\n",
       " [11832.0, 11252.0],\n",
       " [11368.0, 12296.0],\n",
       " [11136.0, 11020.0],\n",
       " [10556.0, 11948.0],\n",
       " [10324.0, 11716.0],\n",
       " [11484.0, 9512.0],\n",
       " [11484.0, 7540.0],\n",
       " [11020.0, 7424.0],\n",
       " [11484.0, 9744.0],\n",
       " [16936.0, 12180.0],\n",
       " [17052.0, 12064.0],\n",
       " [16936.0, 11832.0],\n",
       " [17052.0, 11600.0],\n",
       " [13804.0, 18792.0],\n",
       " [12064.0, 14964.0],\n",
       " [12180.0, 15544.0],\n",
       " [14152.0, 18908.0],\n",
       " [5104.0, 14616.0],\n",
       " [6496.0, 17168.0],\n",
       " [5684.0, 13224.0],\n",
       " [15660.0, 10788.0],\n",
       " [5336.0, 10324.0],\n",
       " [812.0, 6264.0],\n",
       " [14384.0, 20184.0],\n",
       " [11252.0, 15776.0],\n",
       " [9744.0, 3132.0],\n",
       " [10904.0, 3480.0],\n",
       " [7308.0, 14848.0],\n",
       " [16472.0, 16472.0],\n",
       " [10440.0, 14036.0],\n",
       " [10672.0, 13804.0],\n",
       " [1160.0, 18560.0],\n",
       " [10788.0, 13572.0],\n",
       " [15660.0, 11368.0],\n",
       " [15544.0, 12760.0],\n",
       " [5336.0, 18908.0],\n",
       " [6264.0, 19140.0],\n",
       " [11832.0, 17516.0],\n",
       " [10672.0, 14152.0],\n",
       " [10208.0, 15196.0],\n",
       " [12180.0, 14848.0],\n",
       " [11020.0, 10208.0],\n",
       " [7656.0, 17052.0],\n",
       " [16240.0, 8352.0],\n",
       " [10440.0, 14732.0],\n",
       " [9164.0, 15544.0],\n",
       " [8004.0, 11020.0],\n",
       " [5684.0, 11948.0],\n",
       " [9512.0, 16472.0],\n",
       " [13688.0, 17516.0],\n",
       " [11484.0, 8468.0],\n",
       " [3248.0, 14152.0]]"
      ]
     },
     "execution_count": 122,
     "metadata": {},
     "output_type": "execute_result"
    }
   ],
   "source": [
    "## Loading in chosen tsp file, chose the Beer Garten file\n",
    "\n",
    "file_tsp = open(\"test-tsp.txt\", \"r\")\n",
    "\n",
    "beer_cities = []\n",
    "\n",
    "for x in file_tsp:\n",
    "    x = x.split(\"  \")\n",
    "    beer_cities.append(x)\n",
    "    \n",
    "beer_cities = beer_cities[1:]\n",
    "\n",
    "## File had a weird structure, removing redundant columns\n",
    "\n",
    "for row in beer_cities[:99]:\n",
    "    del row[0]\n",
    "    del row[0]\n",
    "\n",
    "for row in beer_cities[99:]:\n",
    "    del row[0]\n",
    "    \n",
    "cities1 = []\n",
    "for i in beer_cities:\n",
    "    b = []\n",
    "    for j in i:\n",
    "        b.append(float(j))\n",
    "    cities1.append(b)\n",
    "    \n",
    "cities1"
   ]
  },
  {
   "cell_type": "code",
   "execution_count": 21,
   "metadata": {},
   "outputs": [
    {
     "name": "stdout",
     "output_type": "stream",
     "text": [
      "[array([21, 23]), array([83, 28]), array([60, 12]), array([24, 22]), array([62, 79]), array([28,  9]), array([63, 89]), array([ 7, 27]), array([39, 66]), array([13, 84]), array([91, 24]), array([11,  6]), array([13, 21]), array([59, 67]), array([78, 32]), array([36, 39]), array([58, 93]), array([83, 70]), array([75, 16]), array([90, 54]), array([10, 89]), array([43, 88]), array([10, 87]), array([39, 26]), array([55, 76]), array([90, 32]), array([54, 24]), array([92, 67]), array([10, 61]), array([84, 88]), array([94, 20]), array([54, 65]), array([31, 99]), array([19, 75]), array([91, 11]), array([25, 89]), array([63, 95]), array([78, 86]), array([78, 17]), array([11, 21]), array([12, 44]), array([ 8, 53]), array([60, 18]), array([27, 49]), array([70, 65]), array([97, 80]), array([84, 19]), array([75,  9]), array([63, 53]), array([57, 55])]\n"
     ]
    }
   ],
   "source": [
    "# creating random data, used this for testing\n",
    "n = 50\n",
    "cities = []\n",
    "for i in range(n):\n",
    "    cities.append(np.random.randint(5, 100, size = 2))\n",
    "    \n",
    "# print(cities)"
   ]
  },
  {
   "cell_type": "code",
   "execution_count": 23,
   "metadata": {},
   "outputs": [],
   "source": [
    "def create_pop(n_population, n_cities):\n",
    "    \"\"\"\n",
    "    n_population: nr of populations\n",
    "    n_cities: nr of cities per population \n",
    "    \"\"\"\n",
    "    \n",
    "    population = []\n",
    "    for i in range(n_population):\n",
    "        population.append(np.random.permutation(n_cities))\n",
    "    return population"
   ]
  },
  {
   "cell_type": "code",
   "execution_count": 24,
   "metadata": {},
   "outputs": [],
   "source": [
    "def euclidean(pos1, pos2):\n",
    "    \"\"\"\n",
    "    pos1: pos of city 1\n",
    "    pos2: pos of city 2\n",
    "    returns euclidean distance between 2 cities\n",
    "    \"\"\"\n",
    "    return np.sqrt(abs(pos1[0] - pos2[0])**2 + abs(pos1[1] - pos2[1])**2)\n",
    "    "
   ]
  },
  {
   "cell_type": "code",
   "execution_count": 25,
   "metadata": {},
   "outputs": [],
   "source": [
    "def fitness(ind, cities):\n",
    "    \"\"\"\n",
    "    ind: individual \n",
    "    cities: all cities from given cities file (Beer garten or given file)\n",
    "    \"\"\"\n",
    "    total = 0 \n",
    "    for i, x in enumerate(ind[:len(ind) - 1]):\n",
    "        total += euclidean(cities[x], cities[ind[i + 1]])\n",
    "    return total"
   ]
  },
  {
   "cell_type": "code",
   "execution_count": 26,
   "metadata": {},
   "outputs": [],
   "source": [
    "def select_parents(population, cities):\n",
    "    \"\"\"\n",
    "    population: population\n",
    "    cities: all cities from given cities file (Beer garten or given file)\n",
    "    \"\"\"\n",
    "    total_fitness = sum([fitness(x, cities) for x in population])\n",
    "    repro_prob = [(fitness(x, cities) / total_fitness) for x in population]\n",
    "    repro_prob = np.reciprocal(repro_prob)\n",
    "    repro_prob = repro_prob / sum(repro_prob)\n",
    "    ind_parents = np.random.choice(np.arange(len(population)), size = len(population), p = repro_prob)\n",
    "    parents = [population[parent] for parent in ind_parents]\n",
    "    return parents"
   ]
  },
  {
   "cell_type": "code",
   "execution_count": 27,
   "metadata": {},
   "outputs": [],
   "source": [
    "def cross_over(parent1, parent2):\n",
    "    \"\"\"\n",
    "    parent1: list parent1\n",
    "    parent2: list parent2\n",
    "    returns offspring of parents using cross over\n",
    "    \"\"\"\n",
    "    cut = np.random.randint(0,len(parent1), size=2)\n",
    "    cut = np.sort(cut)\n",
    "    offspring1 = parent1.copy()\n",
    "    offspring2 = parent2.copy()\n",
    "    for i in range(1, len(parent2)-cut[1]):\n",
    "        for j in range(1,len(parent2)):\n",
    "            if parent2[(cut[1]+j) % (len(parent2))] not in offspring1[cut[0]:cut[1]+i]:\n",
    "                offspring1[cut[1]+i] = parent2[(cut[1]+j) % (len(parent2))]  \n",
    "                break\n",
    "    \n",
    "    for i in range(cut[0]):\n",
    "        for j in range(len(parent2)):\n",
    "            if parent2[j] not in offspring1[cut[0]:] and parent2[j] not in offspring1[0:i]:\n",
    "                offspring1[i] = parent2[j]\n",
    "                break\n",
    "                \n",
    "    for i in range(1, len(parent1) - cut[1]):\n",
    "        for j in range(1,len(parent1)):\n",
    "            if parent1[(cut[1]+j) % (len(parent1))] not in offspring2[cut[0]:cut[1]+i]:\n",
    "                offspring2[cut[1]+i] = parent1[(cut[1]+j) % (len(parent1))]  \n",
    "                break\n",
    "    \n",
    "    for i in range(cut[0]):\n",
    "        for j in range(len(parent1)):\n",
    "            if parent1[j] not in offspring2[cut[0]:] and parent1[j] not in offspring2[0:i]:\n",
    "                offspring2[i] = parent1[j]\n",
    "                break\n",
    "                \n",
    "    return offspring1, offspring2"
   ]
  },
  {
   "cell_type": "code",
   "execution_count": 28,
   "metadata": {},
   "outputs": [],
   "source": [
    "def mutation(parent):\n",
    "    \"\"\"\n",
    "    parent: list of parent\n",
    "    returns mutation of parent\n",
    "    \"\"\"\n",
    "    swap1 = np.random.randint(0, len(parent))\n",
    "    swap2 = np.random.randint(0, len(parent))\n",
    "      \n",
    "    parent[swap1], parent[swap2] = parent[swap2], parent[swap1] \n",
    "    \n",
    "    return parent"
   ]
  },
  {
   "cell_type": "code",
   "execution_count": 29,
   "metadata": {},
   "outputs": [],
   "source": [
    "def local_search(initial_state, cities):\n",
    "    \"\"\" \n",
    "    initial state: initial state\n",
    "    cities: all cities from given cities file (Beer garten or given file)\n",
    "    Peforms local search to find a better solution \n",
    "    Based on sinualted annealing, but terminates way quicker\n",
    "    \"\"\"\n",
    "    initial_temp = 20\n",
    "    final_temp = 10\n",
    "    alpha = 1\n",
    "    \n",
    "    current_temp = initial_temp\n",
    "\n",
    "    solution = initial_state\n",
    "\n",
    "    while current_temp > final_temp: \n",
    "        neighbor = mutation(solution.copy())\n",
    "\n",
    "        cost_diff = fitness(initial_state, cities) - fitness(neighbor, cities)\n",
    "        \n",
    "        if cost_diff > 0:\n",
    "            solution = neighbor\n",
    "            \n",
    "        current_temp -= alpha\n",
    "    \n",
    "    return solution"
   ]
  },
  {
   "cell_type": "code",
   "execution_count": 30,
   "metadata": {},
   "outputs": [],
   "source": [
    "def run_memetic_tsp(n, cities, max_iter = 100, ls = True):\n",
    "    \"\"\"\n",
    "    n: population size\n",
    "    cites: list of cities \n",
    "    max_iter: Maximum number of iterations before stopping\n",
    "    ls: Do local search \n",
    "    \"\"\"\n",
    "\n",
    "    ### population needs an even number of parents\n",
    "    population = create_pop(n, len(cities))\n",
    "    \n",
    "    # if local search is true, run simulated annealing\n",
    "    if ls:\n",
    "        population = [local_search(ind, cities) for ind in population] \n",
    "\n",
    "    n_iter = 0\n",
    "    av_fitness = []\n",
    "    min_fitness = []\n",
    "        \n",
    "    while(n_iter < max_iter):\n",
    "        parents = select_parents(population, cities)\n",
    "        \n",
    "        new_population = parents.copy()\n",
    "        \n",
    "        while(parents):\n",
    "            parent1 = parents.pop()\n",
    "            parent2 = parents.pop()\n",
    "            offspring1, offspring2 = cross_over(parent1, parent2)\n",
    "            new_population.extend([offspring1, offspring2])\n",
    "\n",
    "        mutations = [mutation(x) for x in new_population]\n",
    "        \n",
    "        if ls:\n",
    "            mutations = [local_search(ind, cities) for ind in mutations] \n",
    "\n",
    "        mutations.sort(key = lambda x : fitness(x, cities))\n",
    "\n",
    "        population = mutations[0:n]\n",
    "        \n",
    "        min_fitness.append(np.min([fitness(x, cities) for x in population]))\n",
    "        av_fitness.append(np.average([fitness(x, cities) for x in population]))\n",
    "        \n",
    "        n_iter += 1\n",
    "        print(n_iter, \"/\", max_iter)\n",
    "        clear_output(wait=True)\n",
    "    \n",
    "    return av_fitness, min_fitness, parents"
   ]
  },
  {
   "cell_type": "markdown",
   "metadata": {},
   "source": [
    "#### Without local search"
   ]
  },
  {
   "cell_type": "code",
   "execution_count": 31,
   "metadata": {
    "scrolled": true
   },
   "outputs": [
    {
     "name": "stdout",
     "output_type": "stream",
     "text": [
      "100 / 100\n"
     ]
    }
   ],
   "source": [
    "av_fitness, min_fitness, parents = run_memetic_tsp(100, cities, ls = False)"
   ]
  },
  {
   "cell_type": "markdown",
   "metadata": {},
   "source": [
    "#### With local search"
   ]
  },
  {
   "cell_type": "code",
   "execution_count": 32,
   "metadata": {},
   "outputs": [
    {
     "name": "stdout",
     "output_type": "stream",
     "text": [
      "100 / 100\n"
     ]
    }
   ],
   "source": [
    "av_fitness_sa, min_fitness_sa, parents_sa = run_memetic_tsp(100, cities)"
   ]
  },
  {
   "cell_type": "code",
   "execution_count": 33,
   "metadata": {},
   "outputs": [
    {
     "data": {
      "image/png": "[encoded data removed]",
      "text/plain": [
       "<Figure size 432x288 with 1 Axes>"
      ]
     },
     "metadata": {
      "needs_background": "light"
     },
     "output_type": "display_data"
    }
   ],
   "source": [
    "plt.plot(min_fitness)\n",
    "plt.plot(min_fitness_sa)\n",
    "plt.legend([\"min fitness w/o local search\", \"min fitness w local search\"])\n",
    "plt.xlabel(\"Iteration\")\n",
    "plt.ylabel(\"Fitness\")\n",
    "plt.title(\"Min fitness per iteration\")\n",
    "plt.show()"
   ]
  },
  {
   "cell_type": "code",
   "execution_count": 34,
   "metadata": {
    "scrolled": false
   },
   "outputs": [
    {
     "data": {
      "image/png": "[encoded data removed]",
      "text/plain": [
       "<Figure size 432x288 with 1 Axes>"
      ]
     },
     "metadata": {
      "needs_background": "light"
     },
     "output_type": "display_data"
    }
   ],
   "source": [
    "plt.plot(av_fitness)\n",
    "plt.plot(av_fitness_sa)\n",
    "plt.legend([\"avg fitness w/o local search\", \"avg fitness w local search\"])\n",
    "plt.xlabel(\"Iteration\")\n",
    "plt.ylabel(\"Fitness\")\n",
    "plt.title(\"Average fitness per iteration\")\n",
    "plt.show()"
   ]
  },
  {
   "cell_type": "markdown",
   "metadata": {},
   "source": [
    "### Running ES with tsp files"
   ]
  },
  {
   "cell_type": "markdown",
   "metadata": {},
   "source": [
    "#### Without local search"
   ]
  },
  {
   "cell_type": "code",
   "execution_count": 123,
   "metadata": {},
   "outputs": [
    {
     "name": "stdout",
     "output_type": "stream",
     "text": [
      "100 / 100\n"
     ]
    }
   ],
   "source": [
    "av_fitness_beer, min_fitness_beer, parents_beer = run_memetic_tsp(100, cities1, ls = False)"
   ]
  },
  {
   "cell_type": "markdown",
   "metadata": {},
   "source": [
    "#### With local search"
   ]
  },
  {
   "cell_type": "code",
   "execution_count": 125,
   "metadata": {},
   "outputs": [
    {
     "name": "stdout",
     "output_type": "stream",
     "text": [
      "100 / 100\n"
     ]
    }
   ],
   "source": [
    "av_fitness_beer_sa, min_fitness_beer_sa, parents_beer_sa = run_memetic_tsp(100, cities1)"
   ]
  },
  {
   "cell_type": "code",
   "execution_count": 126,
   "metadata": {},
   "outputs": [
    {
     "data": {
      "image/png": "[encoded data removed]",
      "text/plain": [
       "<Figure size 432x288 with 1 Axes>"
      ]
     },
     "metadata": {
      "needs_background": "light"
     },
     "output_type": "display_data"
    }
   ],
   "source": [
    "plt.plot(min_fitness_beer)\n",
    "plt.plot(min_fitness_beer_sa)\n",
    "plt.legend([\"min fitness w/o local search\", \"min fitness w local search\"])\n",
    "plt.xlabel(\"Iteration\")\n",
    "plt.ylabel(\"Fitness\")\n",
    "plt.title(\"Min fitness per iteration for tsp Beer Garten file\")\n",
    "plt.show()"
   ]
  },
  {
   "cell_type": "code",
   "execution_count": 127,
   "metadata": {},
   "outputs": [
    {
     "data": {
      "image/png": "[encoded data removed]",
      "text/plain": [
       "<Figure size 432x288 with 1 Axes>"
      ]
     },
     "metadata": {
      "needs_background": "light"
     },
     "output_type": "display_data"
    }
   ],
   "source": [
    "plt.plot(av_fitness_beer)\n",
    "plt.plot(av_fitness_beer_sa)\n",
    "plt.legend([\"avg fitness w/o local search\", \"avg fitness w local search\"])\n",
    "plt.xlabel(\"Iteration\")\n",
    "plt.ylabel(\"Fitness\")\n",
    "plt.title(\"Average fitness per iteration for tsp Beer Garten file\")\n",
    "plt.show()"
   ]
  },
  {
   "cell_type": "markdown",
   "metadata": {},
   "source": [
    "### Question 7\n",
    "\n",
    "a) \n",
    "\n",
    "Function set: $\\{\\land, \\lor, \\leftrightarrow, \\rightarrow\\}$\n",
    "\n",
    "Terminal set: $\\{x, y, z, true\\}$\n",
    "\n",
    "S-expression: $(\\rightarrow (\\land \\; y \\; true)(\\lor \\; (\\lor \\; x \\; y) (\\leftrightarrow \\; z \\; (\\land \\; x \\; y))))$\n",
    "\n",
    "b)\n",
    "\n",
    "Function set: $\\{*, +, -\\}$\n",
    "\n",
    "Terminal set: $\\{0.234, 0.789, x, z\\}$\n",
    "\n",
    "S-expression: $(+ \\; (* \\; 0.234 \\; z)(- \\; x \\; 0.789))$"
   ]
  },
  {
   "cell_type": "markdown",
   "metadata": {},
   "source": [
    "### Question 8\n",
    "\n",
    "The code for the genetic program to find a symbolic expression can be found below. Both plots of the best generation fitness and the best generation size can be found at the bottom of the code. \n",
    "\n",
    "We also plotted the function against the input.\n",
    "\n",
    "Some undesirable phenomenon that we found from the data and the plots is that it sometimes gets stuck at a certain fitness. We think this might be due to the algorithm getting stuck in a local optima of selecting certain operatorss and it not being able to get out of it.\n",
    "\n",
    "We noticed that, when the GP does not reach a fitness of close to 0, the generated symbolic representatino contains operators that are not in the symbolic representation of the optimal solution. For example when the GP gets stuck at a fitness of around 2, the found expression is: add(mul(exp(x), mul(x, x)), x).\n",
    "\n",
    "Whilst the symbolic representation of a more optimal solution is: add(add(x, mul(mul(add(x, mul(x, x)), x), x)), mul(x, x)).\n",
    "\n",
    "We notice from these results that some operators that are added to the primative set, can restrict the GP from reaching the global optimum in some runs. For example, when we romove the exponential function from the primitive set, the GP converges to a fitness of close to 0 way faster and more often.\n",
    "\n",
    "This problem of defining the function set is also metnioned in the paper by Darrell Whitley [1].\n",
    "\n",
    "In the problem for this assignment, it seems that the operators such as log, exp and div are not used in the optimal solution. Therefore, these operators could be removed from the primitive set to prevent the GP from getting stuck at those operators. \n",
    "\n",
    "[1] Darrell Whitley, An overview of evolutionary algorithms: practical issues and common pitfalls, Information and Software Technology, Volume 43, Issue 14, 15 December 2001, Pages 817-831, ISSN 0950-5849"
   ]
  },
  {
   "cell_type": "code",
   "execution_count": 53,
   "metadata": {},
   "outputs": [],
   "source": [
    "X_input = [-1., -.9, -.8, -.7, -.6, -.5, -.4, -.3, -.2, -.1, .0, .1, .2, .3, .4, .5, .6, .7, .8, .9, 1.]\n",
    "y_output = [.0, -.1629, -.2624, -.3129, -.3264, -.3125, -.2784, -.2289, -.1664, -.0909, .0, .1111, .2496, .4251, .6496, .9375, 1.3056, 1.7731, 2.3616, 3.0951, 4.0000]"
   ]
  },
  {
   "cell_type": "markdown",
   "metadata": {},
   "source": [
    "#### Creating (custom) operators"
   ]
  },
  {
   "cell_type": "code",
   "execution_count": 41,
   "metadata": {},
   "outputs": [],
   "source": [
    "def protectedDiv(left, right):\n",
    "    \"\"\"\n",
    "    left: left nr of division\n",
    "    right: right nr of division\n",
    "    \"\"\"\n",
    "    try:\n",
    "        return left / right\n",
    "    except ZeroDivisionError:\n",
    "        return 1\n",
    "    \n",
    "def protectedLog(x):\n",
    "    \"\"\"\n",
    "    x: nr to calculate log for\n",
    "    \"\"\"\n",
    "    try:\n",
    "        return math.log(x)\n",
    "    except ValueError:\n",
    "        return 1"
   ]
  },
  {
   "cell_type": "markdown",
   "metadata": {},
   "source": [
    "#### Creating set of operators"
   ]
  },
  {
   "cell_type": "code",
   "execution_count": 42,
   "metadata": {},
   "outputs": [],
   "source": [
    "pset = gp.PrimitiveSet(\"MAIN\", 1)\n",
    "pset.addPrimitive(operator.add, 2)\n",
    "pset.addPrimitive(operator.sub, 2)\n",
    "pset.addPrimitive(operator.mul, 2)\n",
    "pset.addPrimitive(protectedDiv, 2)\n",
    "pset.addPrimitive(protectedLog, 1)\n",
    "pset.addPrimitive(math.exp, 1)\n",
    "pset.addPrimitive(math.cos, 1)\n",
    "pset.addPrimitive(math.sin, 1)\n",
    "\n",
    "pset.renameArguments(ARG0 = 'x')"
   ]
  },
  {
   "cell_type": "markdown",
   "metadata": {},
   "source": [
    "#### Creating the toolbox"
   ]
  },
  {
   "cell_type": "code",
   "execution_count": 43,
   "metadata": {},
   "outputs": [],
   "source": [
    "creator.create(\"FitnessMin\", base.Fitness, weights = (-1.0,))\n",
    "creator.create(\"Individual\", gp.PrimitiveTree, fitness=creator.FitnessMin)\n",
    "\n",
    "toolbox = base.Toolbox()\n",
    "toolbox.register(\"expr\", gp.genHalfAndHalf, pset=pset, min_ = 1, max_ = 2)\n",
    "toolbox.register(\"individual\", tools.initIterate, creator.Individual, toolbox.expr)\n",
    "toolbox.register(\"population\", tools.initRepeat, list, toolbox.individual)\n",
    "toolbox.register(\"compile\", gp.compile, pset=pset)\n",
    "\n",
    "def sum_of_abs_errors(individual, points):\n",
    "    func = toolbox.compile(expr = individual)\n",
    "    errors = (np.abs(func(x) - y_output[idx]) for idx, x in enumerate(points))\n",
    "    return np.sum(errors),\n",
    "\n",
    "toolbox.register(\"evaluate\", sum_of_abs_errors, points = X_input)\n",
    "toolbox.register(\"select\", tools.selTournament, tournsize = 3)\n",
    "toolbox.register(\"mate\", gp.cxOnePoint)\n",
    "toolbox.register(\"expr_mut\", gp.genFull, min_ = 0, max_ = 2)\n",
    "toolbox.register(\"mutate\", gp.mutUniform, expr = toolbox.expr_mut, pset = pset)"
   ]
  },
  {
   "cell_type": "markdown",
   "metadata": {},
   "source": [
    "#### Setting up statistics and running the algorithm"
   ]
  },
  {
   "cell_type": "code",
   "execution_count": 44,
   "metadata": {},
   "outputs": [],
   "source": [
    "stats_fit = tools.Statistics(lambda ind: ind.fitness.values)\n",
    "stats_size = tools.Statistics(len)\n",
    "mstats = tools.MultiStatistics(fitness = stats_fit, size = stats_size)\n",
    "mstats.register(\"min\", np.min)"
   ]
  },
  {
   "cell_type": "code",
   "execution_count": 45,
   "metadata": {},
   "outputs": [
    {
     "name": "stderr",
     "output_type": "stream",
     "text": [
      "<ipython-input-43-9e1cb2bf0cd1>:13: DeprecationWarning: Calling np.sum(generator) is deprecated, and in the future will give a different result. Use np.sum(np.fromiter(generator)) or the python sum builtin instead.\n",
      "  return np.sum(errors),\n"
     ]
    },
    {
     "name": "stdout",
     "output_type": "stream",
     "text": [
      "   \t      \t       fitness        \t         size         \n",
      "   \t      \t----------------------\t----------------------\n",
      "gen\tnevals\tgen\tmin    \tnevals\tgen\tmin\tnevals\n",
      "0  \t1000  \t0  \t5.45326\t1000  \t0  \t2  \t1000  \n",
      "1  \t702   \t1  \t4.24698\t702   \t1  \t2  \t702   \n",
      "2  \t728   \t2  \t4.24698\t728   \t2  \t2  \t728   \n",
      "3  \t712   \t3  \t4.24698\t712   \t3  \t2  \t712   \n",
      "4  \t686   \t4  \t4.24698\t686   \t4  \t2  \t686   \n",
      "5  \t706   \t5  \t2.3637 \t706   \t5  \t2  \t706   \n",
      "6  \t718   \t6  \t4.24698\t718   \t6  \t2  \t718   \n",
      "7  \t714   \t7  \t4.24698\t714   \t7  \t2  \t714   \n",
      "8  \t712   \t8  \t4.24698\t712   \t8  \t2  \t712   \n",
      "9  \t680   \t9  \t4.21783\t680   \t9  \t3  \t680   \n",
      "10 \t704   \t10 \t4.21783\t704   \t10 \t3  \t704   \n",
      "11 \t682   \t11 \t4.21783\t682   \t11 \t3  \t682   \n",
      "12 \t694   \t12 \t4.21783\t694   \t12 \t3  \t694   \n",
      "13 \t686   \t13 \t4.21783\t686   \t13 \t3  \t686   \n",
      "14 \t702   \t14 \t4.21783\t702   \t14 \t3  \t702   \n",
      "15 \t660   \t15 \t4.21783\t660   \t15 \t3  \t660   \n",
      "16 \t700   \t16 \t4.21783\t700   \t16 \t3  \t700   \n",
      "17 \t686   \t17 \t4.21783\t686   \t17 \t3  \t686   \n",
      "18 \t698   \t18 \t4.21783\t698   \t18 \t3  \t698   \n",
      "19 \t686   \t19 \t4.21783\t686   \t19 \t3  \t686   \n",
      "20 \t682   \t20 \t4.21783\t682   \t20 \t3  \t682   \n",
      "21 \t702   \t21 \t4.21783\t702   \t21 \t3  \t702   \n",
      "22 \t714   \t22 \t4.21783\t714   \t22 \t3  \t714   \n",
      "23 \t702   \t23 \t4.21783\t702   \t23 \t3  \t702   \n",
      "24 \t710   \t24 \t4.21783\t710   \t24 \t3  \t710   \n",
      "25 \t750   \t25 \t4.21783\t750   \t25 \t3  \t750   \n",
      "26 \t708   \t26 \t4.21783\t708   \t26 \t3  \t708   \n",
      "27 \t696   \t27 \t4.21783\t696   \t27 \t3  \t696   \n",
      "28 \t684   \t28 \t4.21783\t684   \t28 \t3  \t684   \n",
      "29 \t696   \t29 \t4.21783\t696   \t29 \t3  \t696   \n",
      "30 \t718   \t30 \t4.21783\t718   \t30 \t3  \t718   \n",
      "31 \t712   \t31 \t4.21783\t712   \t31 \t3  \t712   \n",
      "32 \t702   \t32 \t4.21783\t702   \t32 \t3  \t702   \n",
      "33 \t690   \t33 \t4.21783\t690   \t33 \t3  \t690   \n",
      "34 \t688   \t34 \t4.21783\t688   \t34 \t3  \t688   \n",
      "35 \t712   \t35 \t4.21783\t712   \t35 \t3  \t712   \n",
      "36 \t746   \t36 \t4.21783\t746   \t36 \t3  \t746   \n",
      "37 \t694   \t37 \t4.21783\t694   \t37 \t3  \t694   \n",
      "38 \t708   \t38 \t4.21783\t708   \t38 \t3  \t708   \n",
      "39 \t682   \t39 \t4.21783\t682   \t39 \t3  \t682   \n",
      "40 \t674   \t40 \t4.21783\t674   \t40 \t3  \t674   \n",
      "41 \t676   \t41 \t4.21783\t676   \t41 \t3  \t676   \n",
      "42 \t668   \t42 \t4.21783\t668   \t42 \t3  \t668   \n",
      "43 \t706   \t43 \t4.21783\t706   \t43 \t3  \t706   \n",
      "44 \t694   \t44 \t4.21783\t694   \t44 \t3  \t694   \n",
      "45 \t698   \t45 \t4.21783\t698   \t45 \t3  \t698   \n",
      "46 \t712   \t46 \t4.21783\t712   \t46 \t3  \t712   \n",
      "47 \t720   \t47 \t4.21783\t720   \t47 \t3  \t720   \n",
      "48 \t742   \t48 \t4.21783\t742   \t48 \t3  \t742   \n",
      "49 \t708   \t49 \t4.21783\t708   \t49 \t3  \t708   \n",
      "50 \t720   \t50 \t4.21783\t720   \t50 \t3  \t720   \n"
     ]
    }
   ],
   "source": [
    "pop = toolbox.population(n = 1000)\n",
    "hof = tools.HallOfFame(1)\n",
    "pop, log = algorithms.eaSimple(pop, toolbox, 0.7, 0.0, 50, stats = mstats,\n",
    "                                   halloffame = hof, verbose = True)"
   ]
  },
  {
   "cell_type": "markdown",
   "metadata": {},
   "source": [
    "#### Printing the final expression and its plot"
   ]
  },
  {
   "cell_type": "code",
   "execution_count": 27,
   "metadata": {},
   "outputs": [
    {
     "name": "stdout",
     "output_type": "stream",
     "text": [
      "add(x, mul(x, add(x, mul(x, add(mul(x, x), x)))))\n"
     ]
    }
   ],
   "source": [
    "print(hof[0])"
   ]
  },
  {
   "cell_type": "code",
   "execution_count": 46,
   "metadata": {},
   "outputs": [
    {
     "data": {
      "image/png": "[encoded data removed]",
      "text/plain": [
       "<Figure size 432x288 with 1 Axes>"
      ]
     },
     "metadata": {
      "needs_background": "light"
     },
     "output_type": "display_data"
    },
    {
     "name": "stdout",
     "output_type": "stream",
     "text": [
      "[0.0, -0.16289999999999993, -0.26239999999999986, -0.3129, -0.3264, -0.3125, -0.2784, -0.2289, -0.1664, -0.09090000000000001, 0.0, 0.1111, 0.24960000000000002, 0.4251, 0.6496000000000001, 0.9375, 1.3055999999999999, 1.7731, 2.3616, 3.0951, 4.0]\n"
     ]
    }
   ],
   "source": [
    "y = []\n",
    "for x in X_input:\n",
    "    y.append(x + (x * (x + (x * (x + (x * x))))))\n",
    "\n",
    "plt.plot(y)\n",
    "plt.xlabel(\"input x\")\n",
    "plt.ylabel(\"output y\")\n",
    "plt.title(\"Found symbolic expression\")\n",
    "plt.show()\n",
    "print(y)"
   ]
  },
  {
   "cell_type": "code",
   "execution_count": 47,
   "metadata": {},
   "outputs": [],
   "source": [
    "size = log.chapters['size']"
   ]
  },
  {
   "cell_type": "code",
   "execution_count": 48,
   "metadata": {},
   "outputs": [],
   "source": [
    "fitness = log.chapters['fitness']"
   ]
  },
  {
   "cell_type": "code",
   "execution_count": 49,
   "metadata": {},
   "outputs": [],
   "source": [
    "fitnesses = []\n",
    "for x in fitness:\n",
    "    fitnesses.append(x['min'])"
   ]
  },
  {
   "cell_type": "markdown",
   "metadata": {},
   "source": [
    "#### Plotting best fitness results"
   ]
  },
  {
   "cell_type": "code",
   "execution_count": 50,
   "metadata": {},
   "outputs": [
    {
     "data": {
      "image/png": "[encoded data removed]",
      "text/plain": [
       "<Figure size 432x288 with 1 Axes>"
      ]
     },
     "metadata": {
      "needs_background": "light"
     },
     "output_type": "display_data"
    }
   ],
   "source": [
    "plt.plot(fitnesses)\n",
    "plt.xlabel('generation')\n",
    "plt.ylabel('fitness')\n",
    "plt.title('Fitness')\n",
    "plt.show()"
   ]
  },
  {
   "cell_type": "code",
   "execution_count": 51,
   "metadata": {},
   "outputs": [],
   "source": [
    "sizes = []\n",
    "for x in size:\n",
    "    sizes.append(x['min'])"
   ]
  },
  {
   "cell_type": "markdown",
   "metadata": {},
   "source": [
    "#### Plotting the best size"
   ]
  },
  {
   "cell_type": "code",
   "execution_count": 52,
   "metadata": {},
   "outputs": [
    {
     "data": {
      "image/png": "[encoded data removed]",
      "text/plain": [
       "<Figure size 432x288 with 1 Axes>"
      ]
     },
     "metadata": {
      "needs_background": "light"
     },
     "output_type": "display_data"
    }
   ],
   "source": [
    "plt.plot(sizes)\n",
    "plt.xlabel(\"generation\")\n",
    "plt.ylabel(\"depth of tree\")\n",
    "plt.title(\"Size\")\n",
    "plt.show()"
   ]
  },
  {
   "cell_type": "code",
   "execution_count": null,
   "metadata": {},
   "outputs": [],
   "source": []
  }
 ],
 "metadata": {
  "kernelspec": {
   "display_name": "Python 3",
   "language": "python",
   "name": "python3"
  },
  "language_info": {
   "codemirror_mode": {
    "name": "ipython",
    "version": 3
   },
   "file_extension": ".py",
   "mimetype": "text/x-python",
   "name": "python",
   "nbconvert_exporter": "python",
   "pygments_lexer": "ipython3",
   "version": "3.8.6"
  }
 },
 "nbformat": 4,
 "nbformat_minor": 4
}
