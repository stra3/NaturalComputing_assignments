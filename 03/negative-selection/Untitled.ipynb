{
 "cells": [
  {
   "cell_type": "code",
   "execution_count": null,
   "metadata": {},
   "outputs": [],
   "source": [
    "df_filtered_2020 = df_data[(df_data['day_of_year'] > 71) & (df_data['day_of_year'] < 132) & (df_data['year']==2020)]\n",
    "lockdown_traffic=df_filtered['nr_of_vehicles'].mean()\n",
    "df_filtered_rest = df_data[(df_data['day_of_year'] > 71) & (df_data['day_of_year'] < 132) & (df_data['year'] >2014) & (df_data['year'] <2021)]\n",
    "comparisson_traffic=df_filtered['nr_of_vehicles'].mean()\n",
    "diff_trafic=lockdown_traffic-comparisson_traffic\n",
    "print(diff_trafic)"
   ]
  }
 ],
 "metadata": {
  "kernelspec": {
   "display_name": "Python 3",
   "language": "python",
   "name": "python3"
  },
  "language_info": {
   "codemirror_mode": {
    "name": "ipython",
    "version": 3
   },
   "file_extension": ".py",
   "mimetype": "text/x-python",
   "name": "python",
   "nbconvert_exporter": "python",
   "pygments_lexer": "ipython3",
   "version": "3.8.5"
  }
 },
 "nbformat": 4,
 "nbformat_minor": 4
}
