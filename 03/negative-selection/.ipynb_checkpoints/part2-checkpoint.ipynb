{
 "cells": [
  {
   "cell_type": "code",
   "execution_count": 17,
   "metadata": {},
   "outputs": [],
   "source": [
    "import numpy as np\n",
    "import matplotlib.pyplot as plt\n",
    "import sklearn\n",
    "from sklearn import metrics"
   ]
  },
  {
   "cell_type": "markdown",
   "metadata": {},
   "source": [
    "### Preprocessing all the data"
   ]
  },
  {
   "cell_type": "markdown",
   "metadata": {},
   "source": [
    "#### Preprocessin the train data"
   ]
  },
  {
   "cell_type": "code",
   "execution_count": 2,
   "metadata": {},
   "outputs": [],
   "source": [
    "syscalls = open('syscalls/snd-cert/snd-cert.train')"
   ]
  },
  {
   "cell_type": "code",
   "execution_count": 3,
   "metadata": {},
   "outputs": [
    {
     "name": "stdout",
     "output_type": "stream",
     "text": [
      "length raw train data: 811\n"
     ]
    }
   ],
   "source": [
    "raw_train_data = syscalls.read().split('\\n')[:-1]\n",
    "#syscalls = syscalls[:-1] #remove the last empty string\n",
    "print(f'length raw train data: {len(raw_train_data)}')\n"
   ]
  },
  {
   "cell_type": "markdown",
   "metadata": {},
   "source": [
    "We will pick r=min_length for the first test"
   ]
  },
  {
   "cell_type": "code",
   "execution_count": 4,
   "metadata": {},
   "outputs": [
    {
     "name": "stdout",
     "output_type": "stream",
     "text": [
      "min length is: 7\n"
     ]
    }
   ],
   "source": [
    "r = len(min(raw_train_data, key=len)) #r should be n \n",
    "print(f'min length is: {r}')"
   ]
  },
  {
   "cell_type": "code",
   "execution_count": 5,
   "metadata": {},
   "outputs": [],
   "source": [
    "def preprocess(raw_data):\n",
    "    new_data = [] \n",
    "    seq_len = []\n",
    "    for data in raw_data:\n",
    "        nr_chuncks = len(data) // r #we do lose some data here\n",
    "        seq_len.append(nr_chuncks)\n",
    "        temp = []\n",
    "        for i in range(nr_chuncks):\n",
    "            temp.append(data[i*r:i*r+r])\n",
    "        new_data.append(temp)\n",
    "    return new_data, seq_len"
   ]
  },
  {
   "cell_type": "code",
   "execution_count": 6,
   "metadata": {},
   "outputs": [],
   "source": [
    "file_name = 'part2/preprocessed.train'\n",
    "file = open(file_name, \"w\")\n",
    "\n",
    "new_data,_ = preprocess(raw_train_data)\n",
    "\n",
    "for row in new_data:\n",
    "    for d in row:\n",
    "        file.write(d)\n",
    "        file.write('\\n')\n",
    "file.close()"
   ]
  },
  {
   "cell_type": "markdown",
   "metadata": {},
   "source": [
    "#### preprocessing the test data"
   ]
  },
  {
   "cell_type": "code",
   "execution_count": 7,
   "metadata": {},
   "outputs": [
    {
     "name": "stdout",
     "output_type": "stream",
     "text": [
      "length raw_test_data: 1700\n",
      "length labels: 1700\n"
     ]
    }
   ],
   "source": [
    "raw_test_data = open('syscalls/snd-cert/snd-cert-total.test')\n",
    "labels = open('syscalls/snd-cert/snd-cert-total.labels')\n",
    "\n",
    "raw_test_data = raw_test_data.read().split('\\n')[:-1]\n",
    "labels = labels.read().split('\\n')[:-1]\n",
    "labels = [int(a) for a in labels]\n",
    "\n",
    "print(f'length raw_test_data: {len(raw_test_data)}')\n",
    "print(f'length labels: {len(labels)}')"
   ]
  },
  {
   "cell_type": "code",
   "execution_count": 8,
   "metadata": {},
   "outputs": [
    {
     "name": "stdout",
     "output_type": "stream",
     "text": [
      "length preprocessed data: 1700\n",
      "length of sequence: 1700\n"
     ]
    }
   ],
   "source": [
    "pre_test_data, seq_len = preprocess(raw_test_data)\n",
    "print(f'length preprocessed data: {len(pre_test_data)}')\n",
    "print(f'length of sequence: {len(seq_len)}')"
   ]
  },
  {
   "cell_type": "code",
   "execution_count": 9,
   "metadata": {},
   "outputs": [],
   "source": [
    "scores = open('part2/output-snd-cert.output') #output from training\n",
    "scores = scores.read().split('\\n')[:-1]"
   ]
  },
  {
   "cell_type": "code",
   "execution_count": 10,
   "metadata": {},
   "outputs": [
    {
     "name": "stdout",
     "output_type": "stream",
     "text": [
      "amount of scores: 1700\n"
     ]
    }
   ],
   "source": [
    "output = []\n",
    "for r in scores:\n",
    "    temp = []\n",
    "    r = r.split(' ')[:-1]\n",
    "    for c in r:\n",
    "        temp.append(float(c))\n",
    "    output.append(temp)\n",
    "    \n",
    "print(f'amount of scores: {len(output)}')"
   ]
  },
  {
   "cell_type": "code",
   "execution_count": 11,
   "metadata": {},
   "outputs": [],
   "source": [
    "#print(min(output, key=len))\n",
    "means = [] \n",
    "for o in output:\n",
    "    means.append(np.mean(o))"
   ]
  },
  {
   "cell_type": "markdown",
   "metadata": {},
   "source": [
    "### Part 2: analysis\n",
    "\n",
    "we now have all the mean of the scores and can start to calculate the AUC "
   ]
  },
  {
   "cell_type": "code",
   "execution_count": 12,
   "metadata": {},
   "outputs": [],
   "source": [
    "data = np.zeros((len(output),2))\n",
    "\n",
    "for i in range(len(data)):\n",
    "    data[i][0] = means[i]\n",
    "    data[i][1] = labels[i]"
   ]
  },
  {
   "cell_type": "code",
   "execution_count": 15,
   "metadata": {},
   "outputs": [],
   "source": [
    "def sen_spe(scores, norm1, norm2):\n",
    "    sensitivities = []\n",
    "    r_specificities = []\n",
    "    \n",
    "    for ind, score in enumerate(scores):\n",
    "        #below the cutoff points\n",
    "        below = scores[:ind]\n",
    "        #above the cutoff points\n",
    "        above = scores[ind:]\n",
    "        \n",
    "        #calculating the true negatives\n",
    "        tn_num = len([item for item in below if item[1] == 0])\n",
    "        \n",
    "        #calculating the true postives\n",
    "        tp_num = len([item for item in above if item[1] == 1])\n",
    "\n",
    "        sensitivities.append(tp_num / norm1)\n",
    "        r_specificities.append(1 - tn_num / norm2)\n",
    "        \n",
    "    return sensitivities, r_specificities"
   ]
  },
  {
   "cell_type": "code",
   "execution_count": 18,
   "metadata": {},
   "outputs": [
    {
     "data": {
      "image/png": "[encoded data removed]",
      "text/plain": [
       "<Figure size 432x288 with 1 Axes>"
      ]
     },
     "metadata": {
      "needs_background": "light"
     },
     "output_type": "display_data"
    },
    {
     "name": "stdout",
     "output_type": "stream",
     "text": [
      "AUC: 0.28331612903225806\n"
     ]
    }
   ],
   "source": [
    "sens, spec = sen_spe(data, sum(labels), len(data)-sum(labels))\n",
    "plt.plot(spec,sens)\n",
    "plt.show()\n",
    "print(f\"AUC: {sklearn.metrics.auc(spec, sens)}\")"
   ]
  },
  {
   "cell_type": "code",
   "execution_count": null,
   "metadata": {},
   "outputs": [],
   "source": []
  }
 ],
 "metadata": {
  "kernelspec": {
   "display_name": "Python 3",
   "language": "python",
   "name": "python3"
  },
  "language_info": {
   "codemirror_mode": {
    "name": "ipython",
    "version": 3
   },
   "file_extension": ".py",
   "mimetype": "text/x-python",
   "name": "python",
   "nbconvert_exporter": "python",
   "pygments_lexer": "ipython3",
   "version": "3.8.5"
  }
 },
 "nbformat": 4,
 "nbformat_minor": 4
}
