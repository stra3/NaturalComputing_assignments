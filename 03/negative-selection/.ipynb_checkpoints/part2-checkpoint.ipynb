{
 "cells": [
  {
   "cell_type": "code",
   "execution_count": 1,
   "metadata": {},
   "outputs": [],
   "source": [
    "import numpy as np\n",
    "import matplotlib.pyplot as plt\n",
    "import sklearn\n",
    "from sklearn import metrics"
   ]
  },
  {
   "cell_type": "markdown",
   "metadata": {},
   "source": [
    "### Preprocessing all the data"
   ]
  },
  {
   "cell_type": "markdown",
   "metadata": {},
   "source": [
    "#### Preprocessing the train data"
   ]
  },
  {
   "cell_type": "code",
   "execution_count": 52,
   "metadata": {},
   "outputs": [],
   "source": [
    "syscalls_snd_cert = open('syscalls/snd-cert/snd-cert.train')\n",
    "syscalls_snd_unm = open('syscalls/snd-unm/snd-unm.train')"
   ]
  },
  {
   "cell_type": "code",
   "execution_count": 53,
   "metadata": {},
   "outputs": [
    {
     "name": "stdout",
     "output_type": "stream",
     "text": [
      "length raw cert train data: 811\n",
      "length raw unm train data: 1030\n"
     ]
    }
   ],
   "source": [
    "raw_train_data_cert = syscalls_snd_cert.read().split('\\n')[:-1]\n",
    "raw_train_data_unm = syscalls_snd_unm.read().split('\\n')[:-1]\n",
    "\n",
    "print(f'length raw cert train data: {len(raw_train_data_cert)}')\n",
    "print(f'length raw unm train data: {len(raw_train_data_unm)}')\n"
   ]
  },
  {
   "cell_type": "markdown",
   "metadata": {},
   "source": [
    "We will pick r=min_length for the first test"
   ]
  },
  {
   "cell_type": "code",
   "execution_count": 56,
   "metadata": {},
   "outputs": [
    {
     "name": "stdout",
     "output_type": "stream",
     "text": [
      "n cert= 7\n",
      "n cert= 7\n"
     ]
    }
   ],
   "source": [
    "n_cert = len(min(raw_train_data_cert, key=len)) \n",
    "print(f'n cert= {n_cert}')\n",
    "\n",
    "n_unm = len(min(raw_train_data_unm, key=len)) \n",
    "print(f'n cert= {n_unm}')"
   ]
  },
  {
   "cell_type": "code",
   "execution_count": 15,
   "metadata": {},
   "outputs": [],
   "source": [
    "def preprocess(raw_data, n):\n",
    "    new_data = [] \n",
    "    seq_len = []\n",
    "    for data in raw_data:\n",
    "        nr_chuncks = len(data) // n \n",
    "        seq_len.append(nr_chuncks)\n",
    "        temp = []\n",
    "        for i in range(nr_chuncks):\n",
    "            temp.append(data[i*r:i*r+r])\n",
    "        new_data.append(temp)\n",
    "    return new_data, seq_len"
   ]
  },
  {
   "cell_type": "code",
   "execution_count": 58,
   "metadata": {},
   "outputs": [],
   "source": [
    "file_name = 'part2/preprocessed_cert.train'\n",
    "file = open(file_name, \"w\")\n",
    "\n",
    "new_data_cert,_ = preprocess(raw_train_data_cert)\n",
    "\n",
    "for row in new_data_cert:\n",
    "    for d in row:\n",
    "        file.write(d)\n",
    "        file.write('\\n')\n",
    "file.close()\n",
    "\n",
    "file_name = 'part2/preprocessed_unm.train'\n",
    "file = open(file_name, \"w\")\n",
    "\n",
    "new_data_unm,_ = preprocess(raw_train_data_unm)\n",
    "\n",
    "for row in new_data_unm:\n",
    "    for d in row:\n",
    "        file.write(d)\n",
    "        file.write('\\n')\n",
    "file.close()"
   ]
  },
  {
   "cell_type": "markdown",
   "metadata": {},
   "source": [
    "#### preprocessing the test data"
   ]
  },
  {
   "cell_type": "code",
   "execution_count": 65,
   "metadata": {},
   "outputs": [
    {
     "name": "stdout",
     "output_type": "stream",
     "text": [
      "length raw test data cert: 1700\n",
      "length labels cert: 1700\n",
      "length raw test data unm: 1700\n",
      "length labels unm: 1700\n"
     ]
    }
   ],
   "source": [
    "#loading cert labels\n",
    "raw_test_data_cert = open('syscalls/snd-cert/snd-cert-total.test')\n",
    "labels_cert = open('syscalls/snd-cert/snd-cert-total.labels')\n",
    "\n",
    "raw_test_data_cert = raw_test_data_cert.read().split('\\n')[:-1]\n",
    "labels_cert = labels_cert.read().split('\\n')[:-1]\n",
    "labels_cert = [int(a) for a in labels]\n",
    "\n",
    "print(f'length raw test data cert: {len(raw_test_data_cert)}')\n",
    "print(f'length labels cert: {len(labels_cert)}')\n",
    "\n",
    "#loading unm labels\n",
    "raw_test_data_unm = open('syscalls/snd-unm/snd-unm-total.test')\n",
    "labels_unm = open('syscalls/snd-unm/snd-unm-total.labels')\n",
    "\n",
    "raw_test_data_unm = raw_test_data_unm.read().split('\\n')[:-1]\n",
    "labels_unm = labels_unm.read().split('\\n')[:-1]\n",
    "labels_unm = [int(a) for a in labels]\n",
    "\n",
    "print(f'length raw test data unm: {len(raw_test_data_unm)}')\n",
    "print(f'length labels unm: {len(labels_unm)}')"
   ]
  },
  {
   "cell_type": "code",
   "execution_count": 18,
   "metadata": {},
   "outputs": [
    {
     "name": "stdout",
     "output_type": "stream",
     "text": [
      "length preprocessed data: 1700\n",
      "length of sequence: 1700\n"
     ]
    }
   ],
   "source": [
    "pre_test_data, seq_len = preprocess(raw_test_data)\n",
    "print(f'length preprocessed data: {len(pre_test_data)}')\n",
    "print(f'length of sequence: {len(seq_len)}')"
   ]
  },
  {
   "cell_type": "code",
   "execution_count": 43,
   "metadata": {},
   "outputs": [],
   "source": [
    "def preprocess_scores(output):\n",
    "    #reading in all the scores and splitting on lines\n",
    "    scores = output.read().split('\\n')[:-1]\n",
    "    output = []\n",
    "    for r in scores: #adding all the scores that belong to one command together\n",
    "        temp = []\n",
    "        r = r.split(' ')[:-1]\n",
    "        for c in r:\n",
    "            temp.append(float(c))\n",
    "        output.append(temp)\n",
    "        \n",
    "    #getting the mean score of every command\n",
    "    means = [] \n",
    "    for o in output:\n",
    "        means.append(np.mean(o))\n",
    "\n",
    "    #creating the data that will be used for the analysis\n",
    "    \n",
    "    data = np.zeros((len(means),2))\n",
    "\n",
    "    for i in range(len(data)):\n",
    "        data[i][0] = means[i]\n",
    "        data[i][1] = labels[i]\n",
    "    \n",
    "    data = sorted(data, key=lambda x: x[0])\n",
    "    return np.asarray(data) \n"
   ]
  },
  {
   "cell_type": "markdown",
   "metadata": {},
   "source": [
    "### Part 2: analysis on snd-cert data\n",
    "\n",
    "we now have all the mean of the scores and can start to calculate the AUC. "
   ]
  },
  {
   "cell_type": "code",
   "execution_count": 44,
   "metadata": {},
   "outputs": [],
   "source": [
    "def sen_spe(scores, norm1, norm2):\n",
    "    \"\"\"\n",
    "    Function that returns the sensitivies and specitifities \n",
    "    \"\"\"\n",
    "    sensitivities = []\n",
    "    r_specificities = []\n",
    "    \n",
    "    for ind, score in enumerate(scores):\n",
    "        #below the cutoff points\n",
    "        below = scores[:ind]\n",
    "        #above the cutoff points\n",
    "        above = scores[ind:]\n",
    "        \n",
    "        #calculating the true negatives\n",
    "        \n",
    "        tn_num = len([item for item in below if item[1] == 0])\n",
    "        \n",
    "        #calculating the true postives\n",
    "        tp_num = len([item for item in above if item[1] == 1])\n",
    "\n",
    "        sensitivities.append(tp_num / norm1)\n",
    "        r_specificities.append(1 - tn_num / norm2)\n",
    "        \n",
    "    return sensitivities, r_specificities"
   ]
  },
  {
   "cell_type": "markdown",
   "metadata": {},
   "source": [
    "### Experiments with r=1"
   ]
  },
  {
   "cell_type": "code",
   "execution_count": 47,
   "metadata": {},
   "outputs": [
    {
     "data": {
      "image/png": "[encoded data removed]",
      "text/plain": [
       "<Figure size 432x288 with 1 Axes>"
      ]
     },
     "metadata": {
      "needs_background": "light"
     },
     "output_type": "display_data"
    },
    {
     "name": "stdout",
     "output_type": "stream",
     "text": [
      "AUC: 0.6960602150537634\n"
     ]
    }
   ],
   "source": [
    "file = open('part2/snd-cert-r-1.output')\n",
    "data = preprocess_scores(file)\n",
    "sens, spec = sen_spe(data, sum(labels), len(data)-sum(labels))\n",
    "plt.plot(spec,sens)\n",
    "plt.plot(np.arange(0,1,0.05), np.arange(0,1,0.05), '--')\n",
    "plt.title(\"AUC with r=1\")\n",
    "plt.xlabel('1-sensitivity')\n",
    "plt.ylabel('specitifity')\n",
    "plt.show()\n",
    "print(f\"AUC: {sklearn.metrics.auc(spec, sens)}\")"
   ]
  },
  {
   "cell_type": "markdown",
   "metadata": {},
   "source": [
    "### test with r=2"
   ]
  },
  {
   "cell_type": "code",
   "execution_count": 48,
   "metadata": {
    "scrolled": true
   },
   "outputs": [
    {
     "data": {
      "image/png": "[encoded data removed]",
      "text/plain": [
       "<Figure size 432x288 with 1 Axes>"
      ]
     },
     "metadata": {
      "needs_background": "light"
     },
     "output_type": "display_data"
    },
    {
     "name": "stdout",
     "output_type": "stream",
     "text": [
      "AUC: 0.8768043010752689\n"
     ]
    }
   ],
   "source": [
    "file = open('part2/snd-cert-r-2.output')\n",
    "data = preprocess_scores(file)\n",
    "sens, spec = sen_spe(data, sum(labels), len(data)-sum(labels))\n",
    "plt.plot(spec,sens)\n",
    "plt.plot(np.arange(0,1,0.05), np.arange(0,1,0.05), '--')\n",
    "plt.title(\"AUC with r=2\")\n",
    "plt.xlabel('1-sensitivity')\n",
    "plt.ylabel('specitifity')\n",
    "plt.show()\n",
    "print(f\"AUC: {sklearn.metrics.auc(spec, sens)}\")"
   ]
  },
  {
   "cell_type": "code",
   "execution_count": 49,
   "metadata": {},
   "outputs": [
    {
     "data": {
      "image/png": "[encoded data removed]",
      "text/plain": [
       "<Figure size 432x288 with 1 Axes>"
      ]
     },
     "metadata": {
      "needs_background": "light"
     },
     "output_type": "display_data"
    },
    {
     "name": "stdout",
     "output_type": "stream",
     "text": [
      "AUC: 0.9318881720430108\n"
     ]
    }
   ],
   "source": [
    "file = open('part2/snd-cert-r-3.output')\n",
    "data = preprocess_scores(file)\n",
    "sens, spec = sen_spe(data, sum(labels), len(data)-sum(labels))\n",
    "plt.plot(spec,sens)\n",
    "plt.plot(np.arange(0,1,0.05), np.arange(0,1,0.05), '--')\n",
    "plt.title(\"AUC with r=3\")\n",
    "plt.xlabel('1-sensitivity')\n",
    "plt.ylabel('specitifity')\n",
    "plt.show()\n",
    "print(f\"AUC: {sklearn.metrics.auc(spec, sens)}\")"
   ]
  },
  {
   "cell_type": "code",
   "execution_count": 51,
   "metadata": {},
   "outputs": [
    {
     "data": {
      "image/png": "[encoded data removed]",
      "text/plain": [
       "<Figure size 432x288 with 1 Axes>"
      ]
     },
     "metadata": {
      "needs_background": "light"
     },
     "output_type": "display_data"
    },
    {
     "name": "stdout",
     "output_type": "stream",
     "text": [
      "AUC: 0.9269247311827957\n"
     ]
    }
   ],
   "source": [
    "file = open('part2/snd-cert-r-4.output')\n",
    "data = preprocess_scores(file)\n",
    "sens, spec = sen_spe(data, sum(labels), len(data)-sum(labels))\n",
    "plt.plot(spec,sens)\n",
    "plt.plot(np.arange(0,1,0.05), np.arange(0,1,0.05), '--')\n",
    "plt.title(\"AUC with r=4\")\n",
    "plt.xlabel('1-sensitivity')\n",
    "plt.ylabel('specitifity')\n",
    "plt.show()\n",
    "print(f\"AUC: {sklearn.metrics.auc(spec, sens)}\")"
   ]
  },
  {
   "cell_type": "code",
   "execution_count": null,
   "metadata": {},
   "outputs": [],
   "source": []
  }
 ],
 "metadata": {
  "kernelspec": {
   "display_name": "Python 3",
   "language": "python",
   "name": "python3"
  },
  "language_info": {
   "codemirror_mode": {
    "name": "ipython",
    "version": 3
   },
   "file_extension": ".py",
   "mimetype": "text/x-python",
   "name": "python",
   "nbconvert_exporter": "python",
   "pygments_lexer": "ipython3",
   "version": "3.8.5"
  }
 },
 "nbformat": 4,
 "nbformat_minor": 4
}
