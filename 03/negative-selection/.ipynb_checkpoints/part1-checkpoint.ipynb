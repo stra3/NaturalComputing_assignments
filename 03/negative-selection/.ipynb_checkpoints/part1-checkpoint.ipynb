{
 "cells": [
  {
   "cell_type": "markdown",
   "metadata": {},
   "source": [
    "### commands used\n",
    "\n",
    "First we merged the english and tagalog together. We did this by running the following command: \n",
    "\n",
    "\n",
    "    cat english.test tagalog.test > r_9.test\n",
    "\n",
    "After which we ran the following command\n",
    "    \n",
    "    java -jar negsel2.jar -self english.train -n 10 -r 9 -c -l < r_9.test > unsorted_r_9.test\n",
    "\n",
    "\n"
   ]
  },
  {
   "cell_type": "code",
   "execution_count": 4,
   "metadata": {},
   "outputs": [],
   "source": [
    "import numpy as np\n",
    "import matplotlib.pyplot as plt\n",
    "import sklearn\n",
    "from sklearn import metrics"
   ]
  },
  {
   "cell_type": "code",
   "execution_count": 6,
   "metadata": {},
   "outputs": [],
   "source": [
    "unsorted = open('part1/unsorted.test')\n",
    "lines = unsorted.read().split(' \\n')\n",
    "unsorted.close()\n",
    "numbers = [float(a) for a  in lines[:-1]] #for some reason the last element of lines was a space\n",
    "\n",
    "\n",
    "#unsorted = english + tagalog \n",
    "#english length = 124\n",
    "#tagalog length = 708\n",
    "#total   length = 832\n",
    "\n",
    "#labeling data: 0=english, 1=tagalog\n",
    "\n",
    "scores = np.zeros((832,2))\n",
    "for i in range(len(scores)):\n",
    "    scores[i][0] = numbers[i]\n",
    "    if i<124:\n",
    "        scores[i][1] = 0\n",
    "    else: \n",
    "        scores[i][1] = 1 \n",
    "\n",
    "        \n",
    "#scores = list(reversed(sorted(scores, key=lambda x: x[0])))\n",
    "scores = sorted(scores, key=lambda x: x[0])"
   ]
  },
  {
   "cell_type": "code",
   "execution_count": 7,
   "metadata": {},
   "outputs": [],
   "source": [
    "def sen_spe(scores, norm1, norm2):\n",
    "    sensitivities = []\n",
    "    r_specificities = []\n",
    "    \n",
    "    for ind, score in enumerate(scores):\n",
    "        #below the cutoff points\n",
    "        below = scores[:ind]\n",
    "        #above the cutoff points\n",
    "        above = scores[ind:]\n",
    "        \n",
    "        #calculating the true negatives\n",
    "        tn_num = len([item for item in below if item[1] == 0])\n",
    "        \n",
    "        #calculating the true postives\n",
    "        tp_num = len([item for item in above if item[1] == 1])\n",
    "\n",
    "        sensitivities.append(tp_num / norm1)\n",
    "        r_specificities.append(1 - tn_num / norm2)\n",
    "        \n",
    "    return sensitivities, r_specificities"
   ]
  },
  {
   "cell_type": "code",
   "execution_count": 8,
   "metadata": {},
   "outputs": [
    {
     "data": {
      "image/png": "[encoded data removed]",
      "text/plain": [
       "<Figure size 432x288 with 1 Axes>"
      ]
     },
     "metadata": {
      "needs_background": "light"
     },
     "output_type": "display_data"
    },
    {
     "name": "stdout",
     "output_type": "stream",
     "text": [
      "AUC: 0.7916097138691454\n"
     ]
    }
   ],
   "source": [
    "sens,spec = sen_spe(scores, 708, 124)\n",
    "plt.plot(spec,sens)\n",
    "plt.show()\n",
    "print(f\"AUC: {sklearn.metrics.auc(spec, sens)}\")"
   ]
  },
  {
   "cell_type": "markdown",
   "metadata": {},
   "source": [
    "### The following test are with r=9"
   ]
  },
  {
   "cell_type": "code",
   "execution_count": 57,
   "metadata": {},
   "outputs": [
    {
     "name": "stdout",
     "output_type": "stream",
     "text": [
      "[4.7548875 0.       ]\n"
     ]
    }
   ],
   "source": [
    "unsorted = open('part1/unsorted_r_9.test')\n",
    "lines = unsorted.read().split(' \\n')\n",
    "numbers = [float(a) for a  in lines[:-1]] #for some reason the last element of lines was a space\n",
    "\n",
    "#unsorted = english + tagalog \n",
    "#english length = 124\n",
    "#tagalog length = 708\n",
    "#total   length = 832\n",
    "\n",
    "#labeling data: 0=english, 1=tagalog\n",
    "\n",
    "scores = np.zeros((832,2))\n",
    "for i in range(len(scores)):\n",
    "    scores[i][0] = numbers[i]\n",
    "    if i<124:\n",
    "        scores[i][1] = 0\n",
    "    else: \n",
    "        scores[i][1] = 1 \n",
    "\n",
    "scores = sorted(scores, key=lambda x: x[0])\n",
    "print(np.min(scores, axis=0))"
   ]
  },
  {
   "cell_type": "code",
   "execution_count": 58,
   "metadata": {},
   "outputs": [
    {
     "data": {
      "image/png": "[encoded data removed]",
      "text/plain": [
       "<Figure size 432x288 with 1 Axes>"
      ]
     },
     "metadata": {
      "needs_background": "light"
     },
     "output_type": "display_data"
    },
    {
     "name": "stdout",
     "output_type": "stream",
     "text": [
      "AUC: 1.0\n"
     ]
    }
   ],
   "source": [
    "sens,spec = sen_spe(scores, 708, 124)\n",
    "plt.plot(spec,sens)\n",
    "plt.show()\n",
    "print(f\"AUC: {sklearn.metrics.auc(spec, sens)}\")"
   ]
  },
  {
   "cell_type": "markdown",
   "metadata": {},
   "source": [
    "### The following test are with r=1"
   ]
  },
  {
   "cell_type": "code",
   "execution_count": null,
   "metadata": {},
   "outputs": [],
   "source": [
    "unsorted = open('unsorted_r_1.test')\n",
    "lines = unsorted.read().split(' \\n')\n",
    "numbers = [float(a) for a  in lines[:-1]] #for some reason the last element of lines was a space\n",
    "\n",
    "\n",
    "#unsorted = english + tagalog \n",
    "#english length = 124\n",
    "#tagalog length = 708\n",
    "#total   length = 832\n",
    "\n",
    "#labeling data: 0=english, 1=tagalog\n",
    "\n",
    "scores = np.zeros((832,2))\n",
    "for i in range(len(scores)):\n",
    "    scores[i][0] = numbers[i]\n",
    "    if i<124:\n",
    "        scores[i][1] = 0\n",
    "    else: \n",
    "        scores[i][1] = 1 \n",
    "\n",
    "scores = sorted(scores, key=lambda x: x[0])\n",
    "#scores = sorted(scores, key=lambda x: x[0])"
   ]
  },
  {
   "cell_type": "code",
   "execution_count": null,
   "metadata": {},
   "outputs": [],
   "source": [
    "sens,spec = sen_spe(scores, 708, 124)\n",
    "plt.plot(spec,sens)\n",
    "plt.show()\n",
    "print(f\"AUC: {sklearn.metrics.auc(spec, sens)}\")"
   ]
  },
  {
   "cell_type": "markdown",
   "metadata": {},
   "source": [
    "### 1.c 4 lanuages"
   ]
  },
  {
   "cell_type": "markdown",
   "metadata": {},
   "source": [
    "#### English and hiligaynon with r=4 and n=10"
   ]
  },
  {
   "cell_type": "code",
   "execution_count": 64,
   "metadata": {},
   "outputs": [],
   "source": [
    "unsorted = open('part1/unsorted_eng_hil.test')\n",
    "lines = unsorted.read().split(' \\n')\n",
    "numbers = [float(a) for a  in lines[:-1]] #for some reason the last element of lines was a space\n",
    "\n",
    "\n",
    "#unsorted = english + tagalog \n",
    "#english length = 124\n",
    "#hiligaynon length = 500\n",
    "#total   length = 624\n",
    "\n",
    "#labeling data: 0=english, 1=tagalog\n",
    "\n",
    "scores = np.zeros((624,2))\n",
    "for i in range(len(scores)):\n",
    "    scores[i][0] = numbers[i]\n",
    "    if i<124:\n",
    "        scores[i][1] = 0\n",
    "    else: \n",
    "        scores[i][1] = 1 \n",
    "\n",
    "scores = sorted(scores, key=lambda x: x[0])"
   ]
  },
  {
   "cell_type": "code",
   "execution_count": 65,
   "metadata": {},
   "outputs": [
    {
     "data": {
      "image/png": "[encoded data removed]",
      "text/plain": [
       "<Figure size 432x288 with 1 Axes>"
      ]
     },
     "metadata": {
      "needs_background": "light"
     },
     "output_type": "display_data"
    },
    {
     "name": "stdout",
     "output_type": "stream",
     "text": [
      "AUC: 0.7974677419354838\n"
     ]
    }
   ],
   "source": [
    "sens,spec = sen_spe(scores, 124, 500)\n",
    "plt.plot(spec,sens)\n",
    "plt.show()\n",
    "print(f\"AUC: {sklearn.metrics.auc(spec, sens)}\")"
   ]
  },
  {
   "cell_type": "markdown",
   "metadata": {},
   "source": [
    "#### English and middle english with r=4 and n=10"
   ]
  },
  {
   "cell_type": "code",
   "execution_count": 67,
   "metadata": {},
   "outputs": [],
   "source": [
    "unsorted = open('part1/unsorted_eng_middle.test')\n",
    "lines = unsorted.read().split(' \\n')\n",
    "numbers = [float(a) for a  in lines[:-1]] #for some reason the last element of lines was a space\n",
    "\n",
    "\n",
    "#unsorted = english + tagalog \n",
    "#english length = 124\n",
    "#middle english length = 500\n",
    "#total   length = 624\n",
    "\n",
    "#labeling data: 0=english, 1=tagalog\n",
    "\n",
    "scores = np.zeros((624,2))\n",
    "for i in range(len(scores)):\n",
    "    scores[i][0] = numbers[i]\n",
    "    if i<124:\n",
    "        scores[i][1] = 0\n",
    "    else: \n",
    "        scores[i][1] = 1 \n",
    "\n",
    "scores = sorted(scores, key=lambda x: x[0])"
   ]
  },
  {
   "cell_type": "code",
   "execution_count": 68,
   "metadata": {},
   "outputs": [
    {
     "data": {
      "image/png": "[encoded data removed]",
      "text/plain": [
       "<Figure size 432x288 with 1 Axes>"
      ]
     },
     "metadata": {
      "needs_background": "light"
     },
     "output_type": "display_data"
    },
    {
     "name": "stdout",
     "output_type": "stream",
     "text": [
      "AUC: 0.5339032258064516\n"
     ]
    }
   ],
   "source": [
    "sens,spec = sen_spe(scores, 124, 500)\n",
    "plt.plot(spec,sens)\n",
    "plt.show()\n",
    "print(f\"AUC: {sklearn.metrics.auc(spec, sens)}\")"
   ]
  },
  {
   "cell_type": "code",
   "execution_count": 69,
   "metadata": {},
   "outputs": [
    {
     "ename": "IndexError",
     "evalue": "list index out of range",
     "output_type": "error",
     "traceback": [
      "\u001b[0;31m---------------------------------------------------------------------------\u001b[0m",
      "\u001b[0;31mIndexError\u001b[0m                                Traceback (most recent call last)",
      "\u001b[0;32m<ipython-input-69-91856b416f05>\u001b[0m in \u001b[0;36m<module>\u001b[0;34m\u001b[0m\n\u001b[1;32m     13\u001b[0m \u001b[0mscores\u001b[0m \u001b[0;34m=\u001b[0m \u001b[0mnp\u001b[0m\u001b[0;34m.\u001b[0m\u001b[0mzeros\u001b[0m\u001b[0;34m(\u001b[0m\u001b[0;34m(\u001b[0m\u001b[0;36m624\u001b[0m\u001b[0;34m,\u001b[0m\u001b[0;36m2\u001b[0m\u001b[0;34m)\u001b[0m\u001b[0;34m)\u001b[0m\u001b[0;34m\u001b[0m\u001b[0;34m\u001b[0m\u001b[0m\n\u001b[1;32m     14\u001b[0m \u001b[0;32mfor\u001b[0m \u001b[0mi\u001b[0m \u001b[0;32min\u001b[0m \u001b[0mrange\u001b[0m\u001b[0;34m(\u001b[0m\u001b[0mlen\u001b[0m\u001b[0;34m(\u001b[0m\u001b[0mscores\u001b[0m\u001b[0;34m)\u001b[0m\u001b[0;34m)\u001b[0m\u001b[0;34m:\u001b[0m\u001b[0;34m\u001b[0m\u001b[0;34m\u001b[0m\u001b[0m\n\u001b[0;32m---> 15\u001b[0;31m     \u001b[0mscores\u001b[0m\u001b[0;34m[\u001b[0m\u001b[0mi\u001b[0m\u001b[0;34m]\u001b[0m\u001b[0;34m[\u001b[0m\u001b[0;36m0\u001b[0m\u001b[0;34m]\u001b[0m \u001b[0;34m=\u001b[0m \u001b[0mnumbers\u001b[0m\u001b[0;34m[\u001b[0m\u001b[0mi\u001b[0m\u001b[0;34m]\u001b[0m\u001b[0;34m\u001b[0m\u001b[0;34m\u001b[0m\u001b[0m\n\u001b[0m\u001b[1;32m     16\u001b[0m     \u001b[0;32mif\u001b[0m \u001b[0mi\u001b[0m\u001b[0;34m<\u001b[0m\u001b[0;36m124\u001b[0m\u001b[0;34m:\u001b[0m\u001b[0;34m\u001b[0m\u001b[0;34m\u001b[0m\u001b[0m\n\u001b[1;32m     17\u001b[0m         \u001b[0mscores\u001b[0m\u001b[0;34m[\u001b[0m\u001b[0mi\u001b[0m\u001b[0;34m]\u001b[0m\u001b[0;34m[\u001b[0m\u001b[0;36m1\u001b[0m\u001b[0;34m]\u001b[0m \u001b[0;34m=\u001b[0m \u001b[0;36m0\u001b[0m\u001b[0;34m\u001b[0m\u001b[0;34m\u001b[0m\u001b[0m\n",
      "\u001b[0;31mIndexError\u001b[0m: list index out of range"
     ]
    }
   ],
   "source": [
    "unsorted = open('part1/unsorted_eng_pla.test')\n",
    "lines = unsorted.read().split(' \\n')\n",
    "numbers = [float(a) for a  in lines[:-1]] #for some reason the last element of lines was a space\n",
    "\n",
    "\n",
    "#unsorted = english + tagalog \n",
    "#english     length = 124\n",
    "#pladeutisch length = 500\n",
    "#total       length = 624\n",
    "\n",
    "#labeling data: 0=english, 1=tagalog\n",
    "\n",
    "scores = np.zeros((624,2))\n",
    "for i in range(len(scores)):\n",
    "    scores[i][0] = numbers[i]\n",
    "    if i<124:\n",
    "        scores[i][1] = 0\n",
    "    else: \n",
    "        scores[i][1] = 1 \n",
    "\n",
    "scores = sorted(scores, key=lambda x: x[0])"
   ]
  },
  {
   "cell_type": "code",
   "execution_count": null,
   "metadata": {},
   "outputs": [],
   "source": [
    "sens,spec = sen_spe(scores, 124, 500)\n",
    "plt.plot(spec,sens)\n",
    "plt.show()\n",
    "print(f\"AUC: {sklearn.metrics.auc(spec, sens)}\")"
   ]
  },
  {
   "cell_type": "code",
   "execution_count": null,
   "metadata": {},
   "outputs": [],
   "source": [
    "unsorted = open('unsorted_eng_xho.test')\n",
    "lines = unsorted.read().split(' \\n')\n",
    "numbers = [float(a) for a  in lines[:-1]] #for some reason the last element of lines was a space\n",
    "\n",
    "\n",
    "#unsorted = english + tagalog \n",
    "#english length = 124\n",
    "#middle english length = 500\n",
    "#total   length = 624\n",
    "\n",
    "#labeling data: 0=english, 1=tagalog\n",
    "\n",
    "scores = np.zeros((624,2))\n",
    "for i in range(len(scores)):\n",
    "    scores[i][0] = numbers[i]\n",
    "    if i<124:\n",
    "        scores[i][1] = 0\n",
    "    else: \n",
    "        scores[i][1] = 1 \n",
    "\n",
    "scores = sorted(scores, key=lambda x: x[0])"
   ]
  },
  {
   "cell_type": "code",
   "execution_count": null,
   "metadata": {},
   "outputs": [],
   "source": [
    "sens,spec = sen_spe(scores, 124, 500)\n",
    "plt.plot(spec,sens)\n",
    "plt.show()\n",
    "print(f\"AUC: {sklearn.metrics.auc(spec, sens)}\")"
   ]
  },
  {
   "cell_type": "markdown",
   "metadata": {},
   "source": [
    "### From this we can see that xho is the best"
   ]
  }
 ],
 "metadata": {
  "kernelspec": {
   "display_name": "Python 3",
   "language": "python",
   "name": "python3"
  },
  "language_info": {
   "codemirror_mode": {
    "name": "ipython",
    "version": 3
   },
   "file_extension": ".py",
   "mimetype": "text/x-python",
   "name": "python",
   "nbconvert_exporter": "python",
   "pygments_lexer": "ipython3",
   "version": "3.8.5"
  }
 },
 "nbformat": 4,
 "nbformat_minor": 4
}
